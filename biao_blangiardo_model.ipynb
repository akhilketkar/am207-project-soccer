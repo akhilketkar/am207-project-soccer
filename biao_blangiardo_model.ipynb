{
 "cells": [
  {
   "cell_type": "markdown",
   "metadata": {},
   "source": [
    "##Model 1 from Biao and Blangiardo, 2006\n",
    "http://www.statistica.it/gianluca/Research/BaioBlangiardo.pdf\n",
    "\n",
    "###Model Specification\n",
    "\n",
    "Number of goals scored by home team in game g is denoted by $y_{home}^{(g)}$. The number of goals scored by the away team in game g is denoted by $y_{away}^{(g)}$. The $y$'s are assumed to follow a Poisson distribution with an unknown rate parameter.\n",
    "\n",
    "$$ y_{home} | \\theta_{home} \\sim Poisson(\\theta_{home}) $$\n",
    "\n",
    "$$ y_{away} | \\theta_{away} \\sim Poisson(\\theta_{away}) $$\n",
    "\n",
    "The rate parameter is assumed to depend on some underlying ability of each time. In the definitions below $h(g)$ denotes the home team for game g and $a(g)$ denotes the away team.\n",
    "\n",
    "$$ log (\\theta_{home}) = home + att_{h(g)} + def_{a(g)} $$\n",
    "\n",
    "$$ log  (\\theta_{away}) = att_{a(g)} + def_{h(g)} $$\n",
    "\n",
    "\n",
    "The $att_t$ and $def_t$ for each team are assumed to be drawn from a normal distribution. $\\tau$ here represents precision\n",
    "\n",
    "$$ att_t \\sim N(\\mu_{att},1 / \\tau_{att}) $$\n",
    "$$ def_f \\sim N(\\mu_{def},1 / \\tau_{def}) $$\n",
    "\n",
    "The model defines non-informative hyper priors on the $\\mu$, $\\tau$ and $home$\n",
    "\n",
    "$$ \\mu_{att} \\sim N(0,1000) $$\n",
    "$$ \\tau_{att} \\sim Gamma(0.1,0.1) $$\n",
    "$$ \\mu_{def} \\sim N(0,1000) $$\n",
    "$$ \\tau_{def} \\sim Beta(0.1,0.1) $$\n",
    "\n",
    "$$ home \\sim N(0,1000) $$\n",
    "\n",
    "The model also constraints the $att_t$ and $def_t$ to sum to 0.\n",
    "\n",
    "$$ \\sum_t att_t = 0 $$\n",
    "\n",
    "$$ \\sum_t def_t = 0 $$\n",
    "\n"
   ]
  },
  {
   "cell_type": "code",
   "execution_count": 1,
   "metadata": {
    "collapsed": true
   },
   "outputs": [],
   "source": [
    "%matplotlib inline\n",
    "import os\n",
    "import math\n",
    "import warnings\n",
    "import numpy as np\n",
    "import pandas as pd\n",
    "import matplotlib.pyplot as plt\n",
    "import pymc\n",
    "import urllib2\n",
    "import pymc.graph as pymcgr\n",
    "from IPython.display import Image"
   ]
  },
  {
   "cell_type": "code",
   "execution_count": 2,
   "metadata": {
    "collapsed": false
   },
   "outputs": [],
   "source": [
    "import messy"
   ]
  },
  {
   "cell_type": "code",
   "execution_count": 3,
   "metadata": {
    "collapsed": false
   },
   "outputs": [],
   "source": [
    "# define the years you want to get the data for\n",
    "year_c = \"1415\"\n",
    "year_p = \"1314\"\n",
    "league = \"E0\"\n",
    "\n",
    "# get data\n",
    "data_c = messy.get_data(year_c,league)\n",
    "teams, matches_c = messy.clean_data(data_c)"
   ]
  },
  {
   "cell_type": "code",
   "execution_count": 4,
   "metadata": {
    "collapsed": false
   },
   "outputs": [],
   "source": [
    "observed_home_goals = matches_c.home_goals.values\n",
    "observed_away_goals = matches_c.away_goals.values\n",
    "home_team = matches_c.i_home.values\n",
    "away_team = matches_c.i_away.values\n",
    "num_teams = len(matches_c.i_home.unique())\n",
    "num_games = len(home_team)\n",
    "\n",
    "g = matches_c.groupby('i_away')\n",
    "att_starting_points = np.log(g.away_goals.mean())\n",
    "g = matches_c.groupby('i_home')\n",
    "def_starting_points = -np.log(g.away_goals.mean())\n"
   ]
  },
  {
   "cell_type": "code",
   "execution_count": 5,
   "metadata": {
    "collapsed": false
   },
   "outputs": [
    {
     "name": "stdout",
     "output_type": "stream",
     "text": [
      " [-----------------100%-----------------] 100000 of 100000 complete in 67.5 sec"
     ]
    }
   ],
   "source": [
    "# hyper priors\n",
    "mu_att = pymc.Normal('mu_att',mu=0,tau=0.0001,value=0.1)\n",
    "mu_def = pymc.Normal('mu_def',mu=0,tau=0.0001,value=-0.1)\n",
    "tau_att = pymc.Gamma('tau_att',alpha=0.1,beta=0.1,value=10)\n",
    "tau_def = pymc.Gamma('tau_def',alpha=0.1,beta=0.1,value=10)\n",
    "\n",
    "# prior\n",
    "home = pymc.Normal('home',mu=0,tau=0.0001,value=0.1)\n",
    "atts_star = pymc.Normal('att_star',mu=mu_att,tau=tau_att,value=att_starting_points,size=num_teams)\n",
    "defs_star = pymc.Normal('def_star',mu=mu_def,tau=tau_def,value=def_starting_points,size=num_teams)\n",
    "\n",
    "# enforcing the sum to 0\n",
    "@pymc.deterministic\n",
    "def atts(atts_star = atts_star):\n",
    "    atts_a = atts_star.copy()\n",
    "    atts_a = atts_a - np.mean(atts_a)\n",
    "    return atts_a\n",
    "\n",
    "@pymc.deterministic\n",
    "def defs(defs_star = defs_star):\n",
    "    defs_a = defs_star.copy()\n",
    "    defs_a = defs_a - np.mean(defs_a)\n",
    "    return defs_a\n",
    "\n",
    "# computing the parameters\n",
    "@pymc.deterministic\n",
    "def home_theta(home=home,atts=atts,defs=defs,home_team=home_team,away_team=away_team):\n",
    "    return np.exp(home + atts[home_team] + defs[away_team])\n",
    "\n",
    "@pymc.deterministic\n",
    "def away_theta(atts=atts,defs=defs,home_team=home_team,away_team=away_team):\n",
    "    return np.exp(atts[home_team] + defs[home_team])\n",
    "\n",
    "# data\n",
    "home_goals = pymc.Poisson('home_goals',mu=home_theta,value=observed_home_goals,observed=True)\n",
    "away_goals = pymc.Poisson('away_goals',mu=away_theta,value=observed_away_goals,observed=True)\n",
    "\n",
    "mcmc = pymc.MCMC([home, mu_att, mu_def, tau_att, tau_def, \n",
    "                  home_theta, away_theta, \n",
    "                  atts_star, defs_star, atts, defs, \n",
    "                  home_goals, away_goals])\n",
    "\n",
    "mcmc.sample(100000, 100000, 10000)"
   ]
  },
  {
   "cell_type": "code",
   "execution_count": 6,
   "metadata": {
    "collapsed": false
   },
   "outputs": [
    {
     "name": "stdout",
     "output_type": "stream",
     "text": [
      "Plotting mu_att\n",
      "Cannot plot autocorrelation for mu_att\n"
     ]
    },
    {
     "ename": "ValueError",
     "evalue": "x has only one data point. bins or range kwarg must be given",
     "output_type": "error",
     "traceback": [
      "\u001b[0;31m---------------------------------------------------------------------------\u001b[0m",
      "\u001b[0;31mValueError\u001b[0m                                Traceback (most recent call last)",
      "\u001b[0;32m<ipython-input-6-fae274923b36>\u001b[0m in \u001b[0;36m<module>\u001b[0;34m()\u001b[0m\n\u001b[0;32m----> 1\u001b[0;31m \u001b[0mpymc\u001b[0m\u001b[0;34m.\u001b[0m\u001b[0mMatplot\u001b[0m\u001b[0;34m.\u001b[0m\u001b[0mplot\u001b[0m\u001b[0;34m(\u001b[0m\u001b[0mmu_att\u001b[0m\u001b[0;34m,\u001b[0m\u001b[0mpath\u001b[0m\u001b[0;34m=\u001b[0m\u001b[0;34m\"./Figures\"\u001b[0m\u001b[0;34m)\u001b[0m\u001b[0;34m\u001b[0m\u001b[0m\n\u001b[0m",
      "\u001b[0;32m//anaconda/lib/python2.7/site-packages/pymc/Matplot.pyc\u001b[0m in \u001b[0;36mwrapper\u001b[0;34m(pymc_obj, *args, **kwargs)\u001b[0m\n\u001b[1;32m    358\u001b[0m                 \u001b[0mdata\u001b[0m \u001b[0;34m=\u001b[0m \u001b[0mpymc_obj\u001b[0m\u001b[0;34m.\u001b[0m\u001b[0mtrace\u001b[0m\u001b[0;34m(\u001b[0m\u001b[0;34m)\u001b[0m\u001b[0;34m[\u001b[0m\u001b[0mstart\u001b[0m\u001b[0;34m:\u001b[0m\u001b[0;34m]\u001b[0m  \u001b[0;31m# This is deprecated. DH\u001b[0m\u001b[0;34m\u001b[0m\u001b[0m\n\u001b[1;32m    359\u001b[0m                 \u001b[0mname\u001b[0m \u001b[0;34m=\u001b[0m \u001b[0mpymc_obj\u001b[0m\u001b[0;34m.\u001b[0m\u001b[0m__name__\u001b[0m\u001b[0;34m\u001b[0m\u001b[0m\n\u001b[0;32m--> 360\u001b[0;31m                 \u001b[0mf\u001b[0m\u001b[0;34m(\u001b[0m\u001b[0mdata\u001b[0m\u001b[0;34m,\u001b[0m \u001b[0mname\u001b[0m\u001b[0;34m,\u001b[0m \u001b[0;34m*\u001b[0m\u001b[0margs\u001b[0m\u001b[0;34m,\u001b[0m \u001b[0;34m**\u001b[0m\u001b[0mkwargs\u001b[0m\u001b[0;34m)\u001b[0m\u001b[0;34m\u001b[0m\u001b[0m\n\u001b[0m\u001b[1;32m    361\u001b[0m             \u001b[0;32mreturn\u001b[0m\u001b[0;34m\u001b[0m\u001b[0m\n\u001b[1;32m    362\u001b[0m         \u001b[0;32mexcept\u001b[0m \u001b[0mAttributeError\u001b[0m\u001b[0;34m:\u001b[0m\u001b[0;34m\u001b[0m\u001b[0m\n",
      "\u001b[0;32m//anaconda/lib/python2.7/site-packages/pymc/Matplot.pyc\u001b[0m in \u001b[0;36mplot\u001b[0;34m(data, name, format, suffix, path, common_scale, datarange, new, last, rows, num, fontmap, verbose)\u001b[0m\n\u001b[1;32m    453\u001b[0m             \u001b[0mnum\u001b[0m\u001b[0;34m=\u001b[0m\u001b[0mnum\u001b[0m \u001b[0;34m*\u001b[0m \u001b[0;36m2\u001b[0m\u001b[0;34m,\u001b[0m\u001b[0;34m\u001b[0m\u001b[0m\n\u001b[1;32m    454\u001b[0m             \u001b[0mlast\u001b[0m\u001b[0;34m=\u001b[0m\u001b[0mlast\u001b[0m\u001b[0;34m,\u001b[0m\u001b[0;34m\u001b[0m\u001b[0m\n\u001b[0;32m--> 455\u001b[0;31m             fontmap=fontmap)\n\u001b[0m\u001b[1;32m    456\u001b[0m \u001b[0;34m\u001b[0m\u001b[0m\n\u001b[1;32m    457\u001b[0m         \u001b[0;32mif\u001b[0m \u001b[0mlast\u001b[0m\u001b[0;34m:\u001b[0m\u001b[0;34m\u001b[0m\u001b[0m\n",
      "\u001b[0;32m//anaconda/lib/python2.7/site-packages/pymc/Matplot.pyc\u001b[0m in \u001b[0;36mwrapper\u001b[0;34m(pymc_obj, *args, **kwargs)\u001b[0m\n\u001b[1;32m    375\u001b[0m \u001b[0;34m\u001b[0m\u001b[0m\n\u001b[1;32m    376\u001b[0m         \u001b[0;31m# If others fail, assume that raw data is passed\u001b[0m\u001b[0;34m\u001b[0m\u001b[0;34m\u001b[0m\u001b[0m\n\u001b[0;32m--> 377\u001b[0;31m         \u001b[0mf\u001b[0m\u001b[0;34m(\u001b[0m\u001b[0mpymc_obj\u001b[0m\u001b[0;34m,\u001b[0m \u001b[0;34m*\u001b[0m\u001b[0margs\u001b[0m\u001b[0;34m,\u001b[0m \u001b[0;34m**\u001b[0m\u001b[0mkwargs\u001b[0m\u001b[0;34m)\u001b[0m\u001b[0;34m\u001b[0m\u001b[0m\n\u001b[0m\u001b[1;32m    378\u001b[0m \u001b[0;34m\u001b[0m\u001b[0m\n\u001b[1;32m    379\u001b[0m     \u001b[0mwrapper\u001b[0m\u001b[0;34m.\u001b[0m\u001b[0m__doc__\u001b[0m \u001b[0;34m=\u001b[0m \u001b[0mf\u001b[0m\u001b[0;34m.\u001b[0m\u001b[0m__doc__\u001b[0m\u001b[0;34m\u001b[0m\u001b[0m\n",
      "\u001b[0;32m//anaconda/lib/python2.7/site-packages/pymc/Matplot.pyc\u001b[0m in \u001b[0;36mhistogram\u001b[0;34m(data, name, bins, datarange, format, suffix, path, rows, columns, num, last, fontmap, verbose)\u001b[0m\n\u001b[1;32m    576\u001b[0m \u001b[0;34m\u001b[0m\u001b[0m\n\u001b[1;32m    577\u001b[0m         \u001b[0;31m# Generate histogram\u001b[0m\u001b[0;34m\u001b[0m\u001b[0;34m\u001b[0m\u001b[0m\n\u001b[0;32m--> 578\u001b[0;31m         \u001b[0mhist\u001b[0m\u001b[0;34m(\u001b[0m\u001b[0mdata\u001b[0m\u001b[0;34m.\u001b[0m\u001b[0mtolist\u001b[0m\u001b[0;34m(\u001b[0m\u001b[0;34m)\u001b[0m\u001b[0;34m,\u001b[0m \u001b[0mbins\u001b[0m\u001b[0;34m,\u001b[0m \u001b[0mhisttype\u001b[0m\u001b[0;34m=\u001b[0m\u001b[0;34m'stepfilled'\u001b[0m\u001b[0;34m)\u001b[0m\u001b[0;34m\u001b[0m\u001b[0m\n\u001b[0m\u001b[1;32m    579\u001b[0m \u001b[0;34m\u001b[0m\u001b[0m\n\u001b[1;32m    580\u001b[0m         \u001b[0mxlim\u001b[0m\u001b[0;34m(\u001b[0m\u001b[0mdatarange\u001b[0m\u001b[0;34m)\u001b[0m\u001b[0;34m\u001b[0m\u001b[0m\n",
      "\u001b[0;32m//anaconda/lib/python2.7/site-packages/matplotlib/pyplot.pyc\u001b[0m in \u001b[0;36mhist\u001b[0;34m(x, bins, range, normed, weights, cumulative, bottom, histtype, align, orientation, rwidth, log, color, label, stacked, hold, **kwargs)\u001b[0m\n\u001b[1;32m   2894\u001b[0m                       \u001b[0mhisttype\u001b[0m\u001b[0;34m=\u001b[0m\u001b[0mhisttype\u001b[0m\u001b[0;34m,\u001b[0m \u001b[0malign\u001b[0m\u001b[0;34m=\u001b[0m\u001b[0malign\u001b[0m\u001b[0;34m,\u001b[0m \u001b[0morientation\u001b[0m\u001b[0;34m=\u001b[0m\u001b[0morientation\u001b[0m\u001b[0;34m,\u001b[0m\u001b[0;34m\u001b[0m\u001b[0m\n\u001b[1;32m   2895\u001b[0m                       \u001b[0mrwidth\u001b[0m\u001b[0;34m=\u001b[0m\u001b[0mrwidth\u001b[0m\u001b[0;34m,\u001b[0m \u001b[0mlog\u001b[0m\u001b[0;34m=\u001b[0m\u001b[0mlog\u001b[0m\u001b[0;34m,\u001b[0m \u001b[0mcolor\u001b[0m\u001b[0;34m=\u001b[0m\u001b[0mcolor\u001b[0m\u001b[0;34m,\u001b[0m \u001b[0mlabel\u001b[0m\u001b[0;34m=\u001b[0m\u001b[0mlabel\u001b[0m\u001b[0;34m,\u001b[0m\u001b[0;34m\u001b[0m\u001b[0m\n\u001b[0;32m-> 2896\u001b[0;31m                       stacked=stacked, **kwargs)\n\u001b[0m\u001b[1;32m   2897\u001b[0m         \u001b[0mdraw_if_interactive\u001b[0m\u001b[0;34m(\u001b[0m\u001b[0;34m)\u001b[0m\u001b[0;34m\u001b[0m\u001b[0m\n\u001b[1;32m   2898\u001b[0m     \u001b[0;32mfinally\u001b[0m\u001b[0;34m:\u001b[0m\u001b[0;34m\u001b[0m\u001b[0m\n",
      "\u001b[0;32m//anaconda/lib/python2.7/site-packages/matplotlib/axes/_axes.pyc\u001b[0m in \u001b[0;36mhist\u001b[0;34m(self, x, bins, range, normed, weights, cumulative, bottom, histtype, align, orientation, rwidth, log, color, label, stacked, **kwargs)\u001b[0m\n\u001b[1;32m   5598\u001b[0m         \u001b[0;32melif\u001b[0m \u001b[0mlen\u001b[0m\u001b[0;34m(\u001b[0m\u001b[0mflat\u001b[0m\u001b[0;34m)\u001b[0m \u001b[0;34m==\u001b[0m \u001b[0;36m1\u001b[0m \u001b[0;32mand\u001b[0m \u001b[0;32mnot\u001b[0m \u001b[0mbinsgiven\u001b[0m\u001b[0;34m:\u001b[0m\u001b[0;34m\u001b[0m\u001b[0m\n\u001b[1;32m   5599\u001b[0m             raise ValueError(\n\u001b[0;32m-> 5600\u001b[0;31m                 \"x has only one data point. bins or range kwarg must be given\")\n\u001b[0m\u001b[1;32m   5601\u001b[0m \u001b[0;34m\u001b[0m\u001b[0m\n\u001b[1;32m   5602\u001b[0m         \u001b[0;31m# Massage 'x' for processing.\u001b[0m\u001b[0;34m\u001b[0m\u001b[0;34m\u001b[0m\u001b[0m\n",
      "\u001b[0;31mValueError\u001b[0m: x has only one data point. bins or range kwarg must be given"
     ]
    },
    {
     "data": {
      "image/png": "[encoded data removed]",
      "text/plain": [
       "<matplotlib.figure.Figure at 0x10adbd0d0>"
      ]
     },
     "metadata": {},
     "output_type": "display_data"
    }
   ],
   "source": [
    "pymc.Matplot.plot(mu_att,path=\"./Figures\")"
   ]
  },
  {
   "cell_type": "code",
   "execution_count": null,
   "metadata": {
    "collapsed": false
   },
   "outputs": [],
   "source": [
    "pymc.Matplot.plot(mu_def,path=\"./Figures\")"
   ]
  },
  {
   "cell_type": "code",
   "execution_count": null,
   "metadata": {
    "collapsed": false
   },
   "outputs": [],
   "source": [
    "pymc.Matplot.plot(home,path=\"./Figures\")"
   ]
  },
  {
   "cell_type": "code",
   "execution_count": null,
   "metadata": {
    "collapsed": false
   },
   "outputs": [],
   "source": [
    "model_graph = pymcgr.graph(mcmc)\n",
    "Image(model_graph.create_png())"
   ]
  },
  {
   "cell_type": "code",
   "execution_count": null,
   "metadata": {
    "collapsed": false
   },
   "outputs": [],
   "source": [
    "simuls = messy.simulate_seasons(matches_c,teams,atts,defs,home,None,100)\n",
    "g = simuls.groupby('team')\n",
    "season_hdis = pd.DataFrame({'goals_for_lower': g.gf.quantile(.05),\n",
    "                            'goals_for_median': g.gf.median(),\n",
    "                            'goals_for_upper': g.gf.quantile(.95),\n",
    "                            })\n",
    "\n",
    "obs_season = messy.create_season_table(matches_c,teams)"
   ]
  },
  {
   "cell_type": "code",
   "execution_count": null,
   "metadata": {
    "collapsed": false
   },
   "outputs": [],
   "source": [
    "# merge the observed and the simulated data\n",
    "model_comp = pd.merge(obs_season[[\"team\",\"gf\"]],season_hdis,left_on=\"team\",right_index=True)\n",
    "\n",
    "# new figure\n",
    "plt.figure(figsize=(10,10))\n",
    "\n",
    "# plot the goals scored\n",
    "plt.scatter(model_comp.goals_for_median.values,model_comp.gf.values,color=\"blue\",s=200,alpha=0.2)\n",
    "\n",
    "# plot the 45 degree line so we can get a sense for how good the fit is\n",
    "plt.plot([0,110],[0,110],color=\"red\",lw=2)\n",
    "\n",
    "# annotate with the name of the club\n",
    "for t,x,y in zip(model_comp.team.values,model_comp.goals_for_median.values,model_comp.gf.values):\n",
    "    plt.annotate(t, xy=(x,y), xytext = (-5,5), textcoords = 'offset points')\n",
    "\n",
    "plt.xlabel(\"Expected Goals\")\n",
    "plt.ylabel(\"Observed Goals\")\n",
    "plt.xlim((0,110))\n",
    "plt.ylim((0,110))\n",
    "plt.title(\"BB1 Model: Observed v/s Expected Goals For. Year = \" + year_c + \". League = \" + messy.leagues[league],fontsize=\"large\")\n",
    "plt.savefig(\"./Figures/bb1_obsVSexpGoals\"+year_c+league+\".png\",format=\"png\")"
   ]
  },
  {
   "cell_type": "code",
   "execution_count": null,
   "metadata": {
    "collapsed": false
   },
   "outputs": [],
   "source": [
    "model_comp = model_comp.rename(columns = {'goals_for_median':'model_goals_for_median','gf':'observed_goals_for'})\n",
    "model_comp"
   ]
  },
  {
   "cell_type": "code",
   "execution_count": null,
   "metadata": {
    "collapsed": true
   },
   "outputs": [],
   "source": []
  }
 ],
 "metadata": {
  "kernelspec": {
   "display_name": "Python 2",
   "language": "python",
   "name": "python2"
  },
  "language_info": {
   "codemirror_mode": {
    "name": "ipython",
    "version": 2
   },
   "file_extension": ".py",
   "mimetype": "text/x-python",
   "name": "python",
   "nbconvert_exporter": "python",
   "pygments_lexer": "ipython2",
   "version": "2.7.9"
  }
 },
 "nbformat": 4,
 "nbformat_minor": 0
}
