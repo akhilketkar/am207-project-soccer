{
 "cells": [
  {
   "cell_type": "markdown",
   "metadata": {},
   "source": [
    "##Model 1 from the paper by Biao and Blangiardo 2006 modified by Daniel Weitzenfeld in his blog post - With Home-Specific Effects\n",
    "Orignal Paper: http://www.statistica.it/gianluca/Research/BaioBlangiardo.pdf \n",
    "\n",
    "Blog Post: http://danielweitzenfeld.github.io/passtheroc/blog/2014/10/28/bayes-premier-league/\n",
    "\n",
    "###Model Specification\n",
    "\n",
    "Number of goals scored by home team in game g is denoted by $y_{home}^{(g)}$. The number of goals scored by the away team in game g is denoted by $y_{away}^{(g)}$. The $y$'s are assumed to follow a Poisson distribution with an unknown rate parameter.\n",
    "\n",
    "$$ y_{home} | \\theta_{home} \\sim Poisson(\\theta_{home}) $$\n",
    "\n",
    "$$ y_{away} | \\theta_{away} \\sim Poisson(\\theta_{away}) $$\n",
    "\n",
    "The rate parameter is assumed to depend on some underlying ability of each time. In the definitions below $h(g)$ denotes the home team for game g and $a(g)$ denotes the away team.\n",
    "\n",
    "$$ log (\\theta_{home}) = home + intercept + att_{h(g)} + def_{a(g)} $$\n",
    "\n",
    "$$ log  (\\theta_{away}) = intercept + att_{a(g)} + def_{h(g)} $$\n",
    "\n",
    "\n",
    "The $att_t$ and $def_t$ for each team are assumed to be drawn from a normal distribution with mean 0. $\\tau$ here represents precision\n",
    "\n",
    "$$ att_t \\sim N(0,1 / \\tau_{att}) $$\n",
    "$$ def_t \\sim N(0,1 / \\tau_{def}) $$\n",
    "\n",
    "The model defines non-informative hyper priors on $\\tau$, $home$ and $intercept$\n",
    "\n",
    "$$ \\tau_{att} \\sim Gamma(0.1,0.1) $$\n",
    "$$ \\tau_{def} \\sim Beta(0.1,0.1) $$\n",
    "\n",
    "\n",
    "$$ home \\sim N(0,1000) $$\n",
    "$$ intercept \\sim N(0,1000) $$\n",
    "\n",
    "\n",
    "The model also constraints the $att_t$ and $def_t$ to sum to 0.\n",
    "\n",
    "$$ \\sum_t att_t = 0 $$\n",
    "\n",
    "$$ \\sum_t def_t = 0 $$\n",
    "\n",
    "\n",
    "###Our Updates (using ideas inspired by Biao / Blangiardo Model 2):\n",
    "\n",
    "The intercept term here represents the mean scoring ability of each team. But we don't believe the mean scoring ability is the same for all teams. So we modify the model to incorporate this prior knowledge. We split teams into $k$ classes based on their position in the league table last year, their total payroll or some such measure. For now, I use their position in the table last year and split the table in $k$ = 3 groups: top third, middle third and bottom third. \n",
    "\n",
    "The intercept for each of these $k$ groups is allowed to differ in our new model. Let $c(t)$ be the function that maps a team $t$ to it's class as defined above. Then we change\n",
    "\n",
    "$$ log (\\theta_{home}) = home_t + intercept_{c(h(g))} + att_{h(g)} + def_{a(g)} $$\n",
    "\n",
    "$$ log  (\\theta_{away}) = intercept_{c(a(g))} + att_{a(g)} + def_{h(g)} $$\n",
    "\n",
    "and each of the $k$ intercepts are\n",
    "\n",
    "$$ intercept_m \\sim N(0,1000) $$\n",
    "\n",
    "Note, that we now allow each team ot have its own home effect rather than generalizing the effect accross the sample."
   ]
  },
  {
   "cell_type": "markdown",
   "metadata": {},
   "source": [
    "###Code\n",
    "\n",
    "We first import the necessary libraries"
   ]
  },
  {
   "cell_type": "code",
   "execution_count": null,
   "metadata": {
    "collapsed": false
   },
   "outputs": [],
   "source": [
    "%matplotlib inline\n",
    "import os\n",
    "import math\n",
    "import warnings\n",
    "import numpy as np\n",
    "import pandas as pd\n",
    "import matplotlib.pyplot as plt\n",
    "import pymc\n",
    "import urllib2\n",
    "import pymc.graph as pymcgr\n",
    "from IPython.display import Image\n",
    "import datetime"
   ]
  },
  {
   "cell_type": "markdown",
   "metadata": {},
   "source": [
    "###Fucntions to retreive data and make tables\n",
    "Next we write some generic functions that will get the data for the relevant year from the football data website and clean it to be in the format we need. We get rid of the many columns in there that relate to betting\n"
   ]
  },
  {
   "cell_type": "code",
   "execution_count": null,
   "metadata": {
    "collapsed": false
   },
   "outputs": [],
   "source": [
    "## this is where all the helper funcitons are stored\n",
    "import messy\n",
    "reload(messy)"
   ]
  },
  {
   "cell_type": "markdown",
   "metadata": {},
   "source": [
    "###Get the data and create classification\n",
    "Now we actually get the data we want."
   ]
  },
  {
   "cell_type": "code",
   "execution_count": null,
   "metadata": {
    "collapsed": false
   },
   "outputs": [],
   "source": [
    "# define the years you want to get the data for\n",
    "year_c = \"1415\"\n",
    "year_p = \"1314\"\n",
    "league = \"E0\"\n",
    "\n",
    "# get data\n",
    "data_c = messy.get_data(year_c,league)\n",
    "teams, matches_c = messy.clean_data(data_c)\n",
    "\n",
    "# get data for the target year\n",
    "data_c = messy.get_data(year_c,league)\n",
    "teams, matches_c = messy.clean_data(data_c)\n",
    "\n",
    "# get data for the previous year\n",
    "# for now this is how we're binning teams into classes\n",
    "data_p = messy.get_data(year_p,league)\n",
    "teams_p, matches_p = messy.clean_data(data_p,add_outcomes=True)\n",
    "\n",
    "# create season table for the previous year\n",
    "season_tbl_p = messy.create_season_table(matches_p,teams_p)\n",
    "\n",
    "# classify teams into groups based on their finish the previous season\n",
    "num_classes = 3\n",
    "\n",
    "# get the rank and merge into the main table\n",
    "ranking = season_tbl_p[['team','position']].copy()\n",
    "ranking['class'] =  np.repeat(np.arange(num_classes),len(ranking.team)/num_classes +1)[:len(ranking.team)]\n",
    "ranking = ranking.drop('position',axis=1)\n",
    "\n",
    "# merge with current data to get previous ranking\n",
    "teams = pd.merge(teams,ranking,how='left',left_on='team',right_on='team')\n",
    "teams.loc[teams['class'].isnull(),'class'] = num_classes - 1"
   ]
  },
  {
   "cell_type": "markdown",
   "metadata": {},
   "source": [
    "###Set up variables needed for the model\n",
    "\n",
    "We now set up the variables that will be used to build the model. We need to go from pandas dataframes to numpy arrays."
   ]
  },
  {
   "cell_type": "code",
   "execution_count": null,
   "metadata": {
    "collapsed": false
   },
   "outputs": [],
   "source": [
    "# these variables are used in the modelling.\n",
    "observed_home_goals = matches_c.home_goals.values\n",
    "observed_away_goals = matches_c.away_goals.values\n",
    "home_team = matches_c.i_home.values\n",
    "away_team = matches_c.i_away.values\n",
    "team_class = np.array(teams['class'].values,dtype='int')\n",
    "team_num = np.array(teams['i'].values,dtype='int')\n",
    "num_teams = len(matches_c.i_home.unique())\n",
    "num_games = len(home_team)\n",
    "\n",
    "# this is not necessarily needed but it improves performance\n",
    "g = matches_c.groupby('i_away')\n",
    "att_starting_points = np.log(g.away_goals.mean())\n",
    "g = matches_c.groupby('i_home')\n",
    "def_starting_points = -np.log(g.away_goals.mean())\n"
   ]
  },
  {
   "cell_type": "markdown",
   "metadata": {},
   "source": [
    "###Model Setup\n",
    "Here we set up the actual model using pymc "
   ]
  },
  {
   "cell_type": "code",
   "execution_count": null,
   "metadata": {
    "collapsed": false
   },
   "outputs": [],
   "source": [
    "#hyperpriors\n",
    "#tau_home = pymc.Gamma('tau_home', 0.1, 0.1, value=10)\n",
    "home_star = pymc.Normal('home_star', 0, .0001, value=np.zeros(num_teams), size=num_teams)\n",
    "tau_att = pymc.Gamma('tau_att', .1, .1, value=10)\n",
    "tau_def = pymc.Gamma('tau_def', .1, .1, value=10)\n",
    "\n",
    "# one intercept per class of team\n",
    "intercept_star = pymc.Normal('intercept_star', 0, .0001, value=np.zeros(num_classes), size=num_classes)\n",
    "\n",
    "# trick to code classes of intercepts\n",
    "@pymc.deterministic\n",
    "def intercept(intercept_star=intercept_star,team_class=team_class):\n",
    "    intercept_c = intercept_star.copy()\n",
    "    return intercept_c[team_class]\n",
    "\n",
    "#team-specific parameters\n",
    "#home_star = pymc.Normal(\"home_star\", \n",
    "#                        mu=0, \n",
    "#                        tau=tau_home, \n",
    "#                        size=num_teams, \n",
    "#                        value=np.zeros((num_teams,)))\n",
    "\n",
    "atts_star = pymc.Normal(\"atts_star\", \n",
    "                        mu=0, \n",
    "                        tau=tau_att, \n",
    "                        size=num_teams, \n",
    "                        value=att_starting_points.values)\n",
    "defs_star = pymc.Normal(\"defs_star\", \n",
    "                        mu=0, \n",
    "                        tau=tau_def, \n",
    "                        size=num_teams, \n",
    "                        value=def_starting_points.values) \n",
    "\n",
    "# trick to code the sum to zero contraint\n",
    "@pymc.deterministic\n",
    "def home(home_star=home_star,team_num=team_num):\n",
    "    home_c = home_star.copy()\n",
    "    return home_c[team_num]\n",
    "#def home(home_star=home_star,home_team=home_team):\n",
    "#    home = home_star.copy()\n",
    "#    home = home-np.mean(home_star)\n",
    "#    return home\n",
    "\n",
    "@pymc.deterministic\n",
    "def atts(atts_star=atts_star):\n",
    "    atts = atts_star.copy()\n",
    "    atts = atts - np.mean(atts_star)\n",
    "    return atts\n",
    "\n",
    "@pymc.deterministic\n",
    "def defs(defs_star=defs_star):\n",
    "    defs = defs_star.copy()\n",
    "    defs = defs - np.mean(defs_star)\n",
    "    return defs\n",
    "\n",
    "# home scoring parameter and away scoring parameter\n",
    "@pymc.deterministic\n",
    "def home_theta(home_team=home_team, \n",
    "               away_team=away_team, \n",
    "               home=home, \n",
    "               atts=atts, \n",
    "               defs=defs, \n",
    "               intercept=intercept): \n",
    "    return np.exp(intercept[home_team] + \n",
    "                  home[home_team] + \n",
    "                  atts[home_team] + \n",
    "                  defs[away_team])\n",
    "  \n",
    "@pymc.deterministic\n",
    "def away_theta(home_team=home_team, \n",
    "               away_team=away_team,\n",
    "               atts=atts, \n",
    "               defs=defs, \n",
    "               intercept=intercept): \n",
    "    return np.exp(intercept[away_team] + \n",
    "                  atts[away_team] + \n",
    "                  defs[home_team])   \n",
    "\n",
    "# number of goals scored by each time\n",
    "home_goals = pymc.Poisson('home_goals', \n",
    "                          mu=home_theta, \n",
    "                          value=observed_home_goals, \n",
    "                          observed=True)\n",
    "away_goals = pymc.Poisson('away_goals', \n",
    "                          mu=away_theta, \n",
    "                          value=observed_away_goals, \n",
    "                          observed=True)\n",
    "\n",
    "## set up the full model\n",
    "mcmc = pymc.MCMC([home_star,home, intercept_star, intercept, \n",
    "                  tau_att, tau_def, \n",
    "                  home_theta, away_theta, \n",
    "                  atts_star, defs_star, atts, defs, \n",
    "                  home_goals, away_goals])\n",
    "\n",
    "## run the actual MCMC sampling for all our variables\n",
    "mcmc.sample(200000, 40000, 50)"
   ]
  },
  {
   "cell_type": "markdown",
   "metadata": {},
   "source": [
    "###Check convergence\n",
    "It's important to check convergence in these models"
   ]
  },
  {
   "cell_type": "code",
   "execution_count": null,
   "metadata": {
    "collapsed": false
   },
   "outputs": [],
   "source": [
    "# Check if the intercept is actually producing differnt means for the different classes\n",
    "pymc.Matplot.plot(intercept_star,path=\"./Figures/\")"
   ]
  },
  {
   "cell_type": "markdown",
   "metadata": {},
   "source": [
    "####Intercept\n",
    "We do see a significant difference in the mean scoring ability of the top teams relative to the middle and bottom teams.\n",
    "\n",
    "The convergence plots look ok. There's some autocorrelation and perhaps we need to increase the thinning to get rid of this. \n",
    "\n",
    "\n",
    "###$\\tau_{att}$\n",
    "This looks like it has converged"
   ]
  },
  {
   "cell_type": "code",
   "execution_count": null,
   "metadata": {
    "collapsed": false
   },
   "outputs": [],
   "source": [
    "pymc.Matplot.plot(tau_att,path=\"./Figures/\")"
   ]
  },
  {
   "cell_type": "markdown",
   "metadata": {},
   "source": [
    "\n",
    "###$\\tau_{def}$\n",
    "This looks like it has converged"
   ]
  },
  {
   "cell_type": "code",
   "execution_count": null,
   "metadata": {
    "collapsed": false
   },
   "outputs": [],
   "source": [
    "pymc.Matplot.plot(tau_att,path=\"./Figures/\")"
   ]
  },
  {
   "cell_type": "markdown",
   "metadata": {},
   "source": [
    "###Check Model Hierarchy"
   ]
  },
  {
   "cell_type": "code",
   "execution_count": null,
   "metadata": {
    "collapsed": false
   },
   "outputs": [],
   "source": [
    "## Here we display the model we created to ensure that it agrees with the model we had set out to create\n",
    "model_graph = pymcgr.graph(mcmc)\n",
    "Image(model_graph.create_png())"
   ]
  },
  {
   "cell_type": "markdown",
   "metadata": {},
   "source": [
    "###Testing\n",
    "Now we try to test (first in-sample) as to how out model works. We simulate draws from our model and simulate an entire season. We then see how this compares to the real outcomes"
   ]
  },
  {
   "cell_type": "code",
   "execution_count": null,
   "metadata": {
    "collapsed": false
   },
   "outputs": [],
   "source": [
    "simuls = messy.simulate_seasons_home(matches_c,teams,atts,defs,home,intercept,100)\n",
    "g = simuls.groupby('team')\n",
    "season_hdis = pd.DataFrame({'goals_for_lower': g.gf.quantile(.05),\n",
    "                            'goals_for_median': g.gf.median(),\n",
    "                            'goals_for_upper': g.gf.quantile(.95),\n",
    "                            })\n",
    "\n",
    "obs_season = messy.create_season_table(matches_c,teams)\n"
   ]
  },
  {
   "cell_type": "markdown",
   "metadata": {},
   "source": [
    "###Plots of Simulation\n",
    "We now plot the results of our simulation vs the observed data"
   ]
  },
  {
   "cell_type": "code",
   "execution_count": null,
   "metadata": {
    "collapsed": false
   },
   "outputs": [],
   "source": [
    "# merge the observed and the simulated data\n",
    "model_comp = pd.merge(obs_season[[\"team\",\"gf\"]],season_hdis,left_on=\"team\",right_index=True)\n",
    "\n",
    "# new figure\n",
    "plt.figure(figsize=(10,10))\n",
    "\n",
    "# plot the goals scored\n",
    "plt.scatter(model_comp.goals_for_median.values,model_comp.gf.values,color=\"blue\",s=200,alpha=0.2)\n",
    "\n",
    "# plot the 45 degree line so we can get a sense for how good the fit is\n",
    "plt.plot([0,110],[0,110],color=\"red\",lw=2)\n",
    "\n",
    "# annotate with the name of the club\n",
    "for t,x,y in zip(model_comp.team.values,model_comp.goals_for_median.values,model_comp.gf.values):\n",
    "    plt.annotate(t, xy=(x,y), xytext = (-5,5), textcoords = 'offset points')\n",
    "\n",
    "plt.xlabel(\"Expected Goals\")\n",
    "plt.ylabel(\"Observed Goals\")\n",
    "plt.xlim((0,110))\n",
    "plt.ylim((0,110))\n",
    "plt.title(\"Observed v/s Expected Goals For. Year = \" + year_c + \". League = \" + messy.leagues[league],fontsize=\"large\")\n",
    "plt.savefig(\"./Figures/obsVSexpGoals\"+year_c+league+\"_HomeEffects.png\",format=\"png\")"
   ]
  },
  {
   "cell_type": "markdown",
   "metadata": {
    "collapsed": false
   },
   "source": [
    "###Relative Strengths of Teams\n",
    "Now we plot the relative strengths of each time against each other. The y axis is each team's attacking stength (higher is better) and the x axis is their defensive strength (lower is better). The plot also shows the mean goal scoring ability of the team depending on the group to which it belongs."
   ]
  },
  {
   "cell_type": "code",
   "execution_count": null,
   "metadata": {
    "collapsed": false
   },
   "outputs": [],
   "source": [
    "# get team parameters\n",
    "team_params = messy.create_team_param_table(teams,atts,defs,home,intercept)\n",
    "\n",
    "# plot\n",
    "ax = team_params.plot(\"avg_def\",\"avg_att\",kind=\"scatter\",figsize=(12,8),alpha=0.7,s=100,c=\"avg_intercept\")\n",
    "\n",
    "# annotate\n",
    "for t,x,y in zip(team_params.team,team_params.avg_def,team_params.avg_att):\n",
    "    ax.annotate(t,xy=(x,y))\n",
    "\n",
    "plt.xlabel(\"Defensive Strength (lower better)\")\n",
    "plt.ylabel(\"Offensive Strength (higher better)\")\n",
    "plt.title(\"Strengths of Teams in the \"+messy.leagues[league]+\" in \"+year_c)\n",
    "plt.savefig(\"./Figures/relStrength\"+year_c+league+\".png\",format=\"png\")\n"
   ]
  },
  {
   "cell_type": "markdown",
   "metadata": {},
   "source": [
    "###Forecast for Next Week\n",
    "Now that we have a well fitting model for the data we can use it to forecast next weekend's games. So lets do that!!"
   ]
  },
  {
   "cell_type": "code",
   "execution_count": null,
   "metadata": {
    "collapsed": false
   },
   "outputs": [],
   "source": [
    "# run forecasts for EPL only\n",
    "if league == \"E0\" and year_c == \"1415\":\n",
    "    ## Get upcoming games list\n",
    "    fixtures = messy.get_epl_fixtures()\n",
    "\n",
    "    ## Get the games for next weekend\n",
    "    nextMatchDate = min(fixtures['Date'][fixtures['Date'] > datetime.date.today()])\n",
    "    fixtures = fixtures[fixtures['Date'] == nextMatchDate]\n",
    "    print nextMatchDate\n",
    "\n",
    "    ## add indices to the fixtures\n",
    "    fixtures = pd.merge(fixtures,teams,left_on='home',right_on='team')\n",
    "    fixtures.drop('class',axis=1,inplace=True)\n",
    "    fixtures.drop('team',axis=1,inplace=True)\n",
    "    fixtures = fixtures.rename(columns={'i':'home_i'})\n",
    "    fixtures = pd.merge(fixtures,teams,left_on='away',right_on='team')\n",
    "    fixtures.drop('class',axis=1,inplace=True)\n",
    "    fixtures.drop('team',axis=1,inplace=True)\n",
    "    fixtures = fixtures.rename(columns={'i':'away_i'})\n",
    "\n",
    "    # simulate results\n",
    "    pred_results = messy.simulate_matches(fixtures,atts,defs,home,intercept)"
   ]
  },
  {
   "cell_type": "code",
   "execution_count": null,
   "metadata": {
    "collapsed": false
   },
   "outputs": [],
   "source": [
    "pred_results[['home','away','odds_home_win','odds_away_win','odds_draw']]"
   ]
  }
 ],
 "metadata": {
  "kernelspec": {
   "display_name": "Python 2",
   "language": "python",
   "name": "python2"
  },
  "language_info": {
   "codemirror_mode": {
    "name": "ipython",
    "version": 2
   },
   "file_extension": ".py",
   "mimetype": "text/x-python",
   "name": "python",
   "nbconvert_exporter": "python",
   "pygments_lexer": "ipython2",
   "version": "2.7.9"
  }
 },
 "nbformat": 4,
 "nbformat_minor": 0
}
